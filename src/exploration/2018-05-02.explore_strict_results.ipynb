{
 "cells": [
  {
   "cell_type": "markdown",
   "metadata": {},
   "source": [
    "This notebook is my first exploration of the RGI-mapped BN10 genomes to the CARD databases. I used all default settings with RGI, and grabbed only the hits which were deemed \"strict\" (i.e. 100% match). Let's see what's there!"
   ]
  },
  {
   "cell_type": "code",
   "execution_count": 1,
   "metadata": {
    "collapsed": false
   },
   "outputs": [],
   "source": [
    "import pandas as pd\n",
    "import numpy as np\n",
    "\n",
    "import matplotlib.pyplot as plt\n",
    "from matplotlib.colors import rgb2hex\n",
    "import seaborn as sns\n",
    "%matplotlib inline\n",
    "\n",
    "sns.set_style('white')"
   ]
  },
  {
   "cell_type": "code",
   "execution_count": 2,
   "metadata": {
    "collapsed": false
   },
   "outputs": [
    {
     "data": {
      "text/html": [
       "<div>\n",
       "<style scoped>\n",
       "    .dataframe tbody tr th:only-of-type {\n",
       "        vertical-align: middle;\n",
       "    }\n",
       "\n",
       "    .dataframe tbody tr th {\n",
       "        vertical-align: top;\n",
       "    }\n",
       "\n",
       "    .dataframe thead th {\n",
       "        text-align: right;\n",
       "    }\n",
       "</style>\n",
       "<table border=\"1\" class=\"dataframe\">\n",
       "  <thead>\n",
       "    <tr style=\"text-align: right;\">\n",
       "      <th></th>\n",
       "      <th>orf_id</th>\n",
       "      <th>contig</th>\n",
       "      <th>start</th>\n",
       "      <th>stop</th>\n",
       "      <th>orientation</th>\n",
       "      <th>cut_off</th>\n",
       "      <th>pass_evalue</th>\n",
       "      <th>best_hit_evalue</th>\n",
       "      <th>best_hit_aro</th>\n",
       "      <th>best_identities</th>\n",
       "      <th>...</th>\n",
       "      <th>pass_bitscore</th>\n",
       "      <th>best_hit_bitscore</th>\n",
       "      <th>bit_score</th>\n",
       "      <th>predicted_dna</th>\n",
       "      <th>predicted_protein</th>\n",
       "      <th>card_protein_sequence</th>\n",
       "      <th>label</th>\n",
       "      <th>id</th>\n",
       "      <th>model_id</th>\n",
       "      <th>genome</th>\n",
       "    </tr>\n",
       "  </thead>\n",
       "  <tbody>\n",
       "    <tr>\n",
       "      <th>0</th>\n",
       "      <td>scaffold57|size36017_15</td>\n",
       "      <td>ID=57_15;partial=00;start_type=ATG;rbs_motif=T...</td>\n",
       "      <td>21782</td>\n",
       "      <td>23707</td>\n",
       "      <td>+</td>\n",
       "      <td>Strict</td>\n",
       "      <td>NaN</td>\n",
       "      <td>0.0</td>\n",
       "      <td>tetQ</td>\n",
       "      <td>96.41</td>\n",
       "      <td>...</td>\n",
       "      <td>1200</td>\n",
       "      <td>1281.540</td>\n",
       "      <td>1281.54</td>\n",
       "      <td>ATGAATATTATAAATTTAGGAATTCTTGCTCACATTGATGCAGGAA...</td>\n",
       "      <td>MNIINLGILAHIDAGKTSVTENLLFASGATEKCGRVDNGDTITDSM...</td>\n",
       "      <td>MRFDNASIVVYYCLIQMNIINLGILAHIDAGKTSVTENLLFASGAT...</td>\n",
       "      <td>scaffold57|size36017_15#21783#23708#1#ID=57_15...</td>\n",
       "      <td>gnl|BL_ORD_ID|2201|hsp_num:0</td>\n",
       "      <td>1183</td>\n",
       "      <td>aa_0143_0005_c5</td>\n",
       "    </tr>\n",
       "    <tr>\n",
       "      <th>1</th>\n",
       "      <td>scaffold238|size8236_1</td>\n",
       "      <td>ID=238_1;partial=00;start_type=ATG;rbs_motif=N...</td>\n",
       "      <td>1445</td>\n",
       "      <td>2245</td>\n",
       "      <td>-</td>\n",
       "      <td>Strict</td>\n",
       "      <td>NaN</td>\n",
       "      <td>0.0</td>\n",
       "      <td>ErmF</td>\n",
       "      <td>98.50</td>\n",
       "      <td>...</td>\n",
       "      <td>400</td>\n",
       "      <td>531.561</td>\n",
       "      <td>531.561</td>\n",
       "      <td>ATGACAAAAAAGAAATTGCCCGTTCGTTTTACGGGTCAGCACTTTA...</td>\n",
       "      <td>MTKKKLPVRFTGQHFTIDKVLIKDAIRQANISNQDTVLDIGAGKGF...</td>\n",
       "      <td>MTKKKLPVRFTGQHFTIDKVLIKDAIRQANISNQDTVLDIGAGKGF...</td>\n",
       "      <td>scaffold238|size8236_1#1446#2246#-1#ID=238_1;p...</td>\n",
       "      <td>gnl|BL_ORD_ID|159|hsp_num:0</td>\n",
       "      <td>621</td>\n",
       "      <td>aa_0143_0005_c5</td>\n",
       "    </tr>\n",
       "    <tr>\n",
       "      <th>2</th>\n",
       "      <td>scaffold44|size37419_2</td>\n",
       "      <td>ID=44_2;partial=00;start_type=ATG;rbs_motif=No...</td>\n",
       "      <td>1108</td>\n",
       "      <td>2274</td>\n",
       "      <td>-</td>\n",
       "      <td>Strict</td>\n",
       "      <td>NaN</td>\n",
       "      <td>0.0</td>\n",
       "      <td>tetX</td>\n",
       "      <td>99.74</td>\n",
       "      <td>...</td>\n",
       "      <td>750</td>\n",
       "      <td>799.660</td>\n",
       "      <td>799.66</td>\n",
       "      <td>ATGACAATGCGAATAGATACAGACAAACAAATGAATTTACTTAGTG...</td>\n",
       "      <td>MTMRIDTDKQMNLLSDKNVAIIGGGPVGLTMAKLLQQNGIDVSVYE...</td>\n",
       "      <td>MTMRIDTDKQMNLLSDKNVAIIGGGPVGLTMAKLLQQNGIDVSVYE...</td>\n",
       "      <td>scaffold44|size37419_2#1109#2275#-1#ID=44_2;pa...</td>\n",
       "      <td>gnl|BL_ORD_ID|1398|hsp_num:0</td>\n",
       "      <td>776</td>\n",
       "      <td>cx_0004_0077_d9</td>\n",
       "    </tr>\n",
       "    <tr>\n",
       "      <th>3</th>\n",
       "      <td>scaffold44|size37419_1</td>\n",
       "      <td>ID=44_1;partial=00;start_type=ATG;rbs_motif=No...</td>\n",
       "      <td>95</td>\n",
       "      <td>895</td>\n",
       "      <td>+</td>\n",
       "      <td>Strict</td>\n",
       "      <td>NaN</td>\n",
       "      <td>0.0</td>\n",
       "      <td>ErmF</td>\n",
       "      <td>99.25</td>\n",
       "      <td>...</td>\n",
       "      <td>400</td>\n",
       "      <td>534.643</td>\n",
       "      <td>534.643</td>\n",
       "      <td>ATGACAAAAAAGAAATTGCCCGTTCGTTTTACGGGTCAGCACTTTA...</td>\n",
       "      <td>MTKKKLPVRFTGQHFTIDKVLIKDAIRQANISNQDTVLDIGAGKGF...</td>\n",
       "      <td>MTKKKLPVRFTGQHFTIDKVLIKDAIRQANISNQDTVLDIGAGKGF...</td>\n",
       "      <td>scaffold44|size37419_1#96#896#1#ID=44_1;partia...</td>\n",
       "      <td>gnl|BL_ORD_ID|159|hsp_num:0</td>\n",
       "      <td>621</td>\n",
       "      <td>cx_0004_0077_d9</td>\n",
       "    </tr>\n",
       "    <tr>\n",
       "      <th>4</th>\n",
       "      <td>scaffold13|size144083_82</td>\n",
       "      <td>ID=13_82;partial=00;start_type=ATG;rbs_motif=N...</td>\n",
       "      <td>110871</td>\n",
       "      <td>112796</td>\n",
       "      <td>+</td>\n",
       "      <td>Strict</td>\n",
       "      <td>NaN</td>\n",
       "      <td>0.0</td>\n",
       "      <td>tetQ</td>\n",
       "      <td>96.41</td>\n",
       "      <td>...</td>\n",
       "      <td>1200</td>\n",
       "      <td>1281.540</td>\n",
       "      <td>1281.54</td>\n",
       "      <td>ATGAATATTATAAATTTAGGAATTCTTGCTCACATTGATGCAGGAA...</td>\n",
       "      <td>MNIINLGILAHIDAGKTSVTENLLFASGATEKCGRVDNGDTITDSM...</td>\n",
       "      <td>MRFDNASIVVYYCLIQMNIINLGILAHIDAGKTSVTENLLFASGAT...</td>\n",
       "      <td>scaffold13|size144083_82#110872#112797#1#ID=13...</td>\n",
       "      <td>gnl|BL_ORD_ID|2201|hsp_num:0</td>\n",
       "      <td>1183</td>\n",
       "      <td>cx_0004_0077_d9</td>\n",
       "    </tr>\n",
       "  </tbody>\n",
       "</table>\n",
       "<p>5 rows × 26 columns</p>\n",
       "</div>"
      ],
      "text/plain": [
       "                     orf_id  \\\n",
       "0   scaffold57|size36017_15   \n",
       "1    scaffold238|size8236_1   \n",
       "2    scaffold44|size37419_2   \n",
       "3    scaffold44|size37419_1   \n",
       "4  scaffold13|size144083_82   \n",
       "\n",
       "                                              contig   start    stop  \\\n",
       "0  ID=57_15;partial=00;start_type=ATG;rbs_motif=T...   21782   23707   \n",
       "1  ID=238_1;partial=00;start_type=ATG;rbs_motif=N...    1445    2245   \n",
       "2  ID=44_2;partial=00;start_type=ATG;rbs_motif=No...    1108    2274   \n",
       "3  ID=44_1;partial=00;start_type=ATG;rbs_motif=No...      95     895   \n",
       "4  ID=13_82;partial=00;start_type=ATG;rbs_motif=N...  110871  112796   \n",
       "\n",
       "  orientation cut_off  pass_evalue  best_hit_evalue best_hit_aro  \\\n",
       "0           +  Strict          NaN              0.0         tetQ   \n",
       "1           -  Strict          NaN              0.0         ErmF   \n",
       "2           -  Strict          NaN              0.0         tetX   \n",
       "3           +  Strict          NaN              0.0         ErmF   \n",
       "4           +  Strict          NaN              0.0         tetQ   \n",
       "\n",
       "   best_identities       ...        pass_bitscore best_hit_bitscore bit_score  \\\n",
       "0            96.41       ...                 1200          1281.540   1281.54   \n",
       "1            98.50       ...                  400           531.561   531.561   \n",
       "2            99.74       ...                  750           799.660    799.66   \n",
       "3            99.25       ...                  400           534.643   534.643   \n",
       "4            96.41       ...                 1200          1281.540   1281.54   \n",
       "\n",
       "                                       predicted_dna  \\\n",
       "0  ATGAATATTATAAATTTAGGAATTCTTGCTCACATTGATGCAGGAA...   \n",
       "1  ATGACAAAAAAGAAATTGCCCGTTCGTTTTACGGGTCAGCACTTTA...   \n",
       "2  ATGACAATGCGAATAGATACAGACAAACAAATGAATTTACTTAGTG...   \n",
       "3  ATGACAAAAAAGAAATTGCCCGTTCGTTTTACGGGTCAGCACTTTA...   \n",
       "4  ATGAATATTATAAATTTAGGAATTCTTGCTCACATTGATGCAGGAA...   \n",
       "\n",
       "                                   predicted_protein  \\\n",
       "0  MNIINLGILAHIDAGKTSVTENLLFASGATEKCGRVDNGDTITDSM...   \n",
       "1  MTKKKLPVRFTGQHFTIDKVLIKDAIRQANISNQDTVLDIGAGKGF...   \n",
       "2  MTMRIDTDKQMNLLSDKNVAIIGGGPVGLTMAKLLQQNGIDVSVYE...   \n",
       "3  MTKKKLPVRFTGQHFTIDKVLIKDAIRQANISNQDTVLDIGAGKGF...   \n",
       "4  MNIINLGILAHIDAGKTSVTENLLFASGATEKCGRVDNGDTITDSM...   \n",
       "\n",
       "                               card_protein_sequence  \\\n",
       "0  MRFDNASIVVYYCLIQMNIINLGILAHIDAGKTSVTENLLFASGAT...   \n",
       "1  MTKKKLPVRFTGQHFTIDKVLIKDAIRQANISNQDTVLDIGAGKGF...   \n",
       "2  MTMRIDTDKQMNLLSDKNVAIIGGGPVGLTMAKLLQQNGIDVSVYE...   \n",
       "3  MTKKKLPVRFTGQHFTIDKVLIKDAIRQANISNQDTVLDIGAGKGF...   \n",
       "4  MRFDNASIVVYYCLIQMNIINLGILAHIDAGKTSVTENLLFASGAT...   \n",
       "\n",
       "                                               label  \\\n",
       "0  scaffold57|size36017_15#21783#23708#1#ID=57_15...   \n",
       "1  scaffold238|size8236_1#1446#2246#-1#ID=238_1;p...   \n",
       "2  scaffold44|size37419_2#1109#2275#-1#ID=44_2;pa...   \n",
       "3  scaffold44|size37419_1#96#896#1#ID=44_1;partia...   \n",
       "4  scaffold13|size144083_82#110872#112797#1#ID=13...   \n",
       "\n",
       "                             id model_id           genome  \n",
       "0  gnl|BL_ORD_ID|2201|hsp_num:0     1183  aa_0143_0005_c5  \n",
       "1   gnl|BL_ORD_ID|159|hsp_num:0      621  aa_0143_0005_c5  \n",
       "2  gnl|BL_ORD_ID|1398|hsp_num:0      776  cx_0004_0077_d9  \n",
       "3   gnl|BL_ORD_ID|159|hsp_num:0      621  cx_0004_0077_d9  \n",
       "4  gnl|BL_ORD_ID|2201|hsp_num:0     1183  cx_0004_0077_d9  \n",
       "\n",
       "[5 rows x 26 columns]"
      ]
     },
     "execution_count": 2,
     "metadata": {},
     "output_type": "execute_result"
    }
   ],
   "source": [
    "fname = '../../data/clean/bn10.rgi_mapped.strict.txt'\n",
    "\n",
    "cols = ['ORF_ID', 'CONTIG', 'START', 'STOP', 'ORIENTATION',\n",
    "        'CUT_OFF', 'PASS_EVALUE', 'Best_Hit_evalue',\n",
    "        'Best_Hit_ARO', 'Best_Identities', 'ARO', 'ARO_name',\n",
    "        'Model_type', 'SNP', 'Best_Hit_ARO_category',\n",
    "        'ARO_category', 'PASS_bitscore', 'Best_Hit_bitscore',\n",
    "        'bit_score', 'Predicted_DNA', 'Predicted_Protein',\n",
    "        'CARD_Protein_Sequence', 'LABEL', 'ID', 'Model_id',\n",
    "        'genome']\n",
    "cols = [c.lower() for c in cols]\n",
    "df = pd.read_csv(fname, sep='\\t', names=cols)\n",
    "df.head()"
   ]
  },
  {
   "cell_type": "code",
   "execution_count": 3,
   "metadata": {
    "collapsed": false
   },
   "outputs": [
    {
     "data": {
      "text/html": [
       "<div>\n",
       "<style scoped>\n",
       "    .dataframe tbody tr th:only-of-type {\n",
       "        vertical-align: middle;\n",
       "    }\n",
       "\n",
       "    .dataframe tbody tr th {\n",
       "        vertical-align: top;\n",
       "    }\n",
       "\n",
       "    .dataframe thead th {\n",
       "        text-align: right;\n",
       "    }\n",
       "</style>\n",
       "<table border=\"1\" class=\"dataframe\">\n",
       "  <thead>\n",
       "    <tr style=\"text-align: right;\">\n",
       "      <th></th>\n",
       "      <th>genome</th>\n",
       "      <th>Species</th>\n",
       "      <th>phylum</th>\n",
       "      <th>Individual</th>\n",
       "      <th>Time_point</th>\n",
       "      <th>Plate_number</th>\n",
       "      <th>Well_number</th>\n",
       "    </tr>\n",
       "  </thead>\n",
       "  <tbody>\n",
       "    <tr>\n",
       "      <th>0</th>\n",
       "      <td>am_0014_0091_a10</td>\n",
       "      <td>Akkermansia_muciniphila</td>\n",
       "      <td>Verrucomicrobia</td>\n",
       "      <td>am</td>\n",
       "      <td>14</td>\n",
       "      <td>91</td>\n",
       "      <td>a10</td>\n",
       "    </tr>\n",
       "    <tr>\n",
       "      <th>1</th>\n",
       "      <td>am_0014_0091_a12</td>\n",
       "      <td>Akkermansia_muciniphila</td>\n",
       "      <td>Verrucomicrobia</td>\n",
       "      <td>am</td>\n",
       "      <td>14</td>\n",
       "      <td>91</td>\n",
       "      <td>a12</td>\n",
       "    </tr>\n",
       "    <tr>\n",
       "      <th>2</th>\n",
       "      <td>am_0014_0091_b12</td>\n",
       "      <td>Akkermansia_muciniphila</td>\n",
       "      <td>Verrucomicrobia</td>\n",
       "      <td>am</td>\n",
       "      <td>14</td>\n",
       "      <td>91</td>\n",
       "      <td>b12</td>\n",
       "    </tr>\n",
       "    <tr>\n",
       "      <th>3</th>\n",
       "      <td>am_0014_0091_b8</td>\n",
       "      <td>Akkermansia_muciniphila</td>\n",
       "      <td>Verrucomicrobia</td>\n",
       "      <td>am</td>\n",
       "      <td>14</td>\n",
       "      <td>91</td>\n",
       "      <td>b8</td>\n",
       "    </tr>\n",
       "    <tr>\n",
       "      <th>4</th>\n",
       "      <td>am_0014_0091_c7</td>\n",
       "      <td>Akkermansia_muciniphila</td>\n",
       "      <td>Verrucomicrobia</td>\n",
       "      <td>am</td>\n",
       "      <td>14</td>\n",
       "      <td>91</td>\n",
       "      <td>c7</td>\n",
       "    </tr>\n",
       "  </tbody>\n",
       "</table>\n",
       "</div>"
      ],
      "text/plain": [
       "             genome                  Species           phylum Individual  \\\n",
       "0  am_0014_0091_a10  Akkermansia_muciniphila  Verrucomicrobia         am   \n",
       "1  am_0014_0091_a12  Akkermansia_muciniphila  Verrucomicrobia         am   \n",
       "2  am_0014_0091_b12  Akkermansia_muciniphila  Verrucomicrobia         am   \n",
       "3   am_0014_0091_b8  Akkermansia_muciniphila  Verrucomicrobia         am   \n",
       "4   am_0014_0091_c7  Akkermansia_muciniphila  Verrucomicrobia         am   \n",
       "\n",
       "   Time_point  Plate_number Well_number  \n",
       "0          14            91         a10  \n",
       "1          14            91         a12  \n",
       "2          14            91         b12  \n",
       "3          14            91          b8  \n",
       "4          14            91          c7  "
      ]
     },
     "execution_count": 3,
     "metadata": {},
     "output_type": "execute_result"
    }
   ],
   "source": [
    "fmeta = '../../data/raw/table_BN10_WGS_metadata_04232018.txt'\n",
    "meta = pd.read_csv(fmeta, sep='\\t')\n",
    "# One of the columns is all NaN\n",
    "meta = meta.dropna(how='all', axis=1)\n",
    "meta = meta.rename(columns={'Genome_name': 'genome'})\n",
    "meta.head()"
   ]
  },
  {
   "cell_type": "code",
   "execution_count": 4,
   "metadata": {
    "collapsed": false
   },
   "outputs": [
    {
     "name": "stdout",
     "output_type": "stream",
     "text": [
      "((19315, 26), (3717, 7))\n",
      "((1899,), (3717,))\n",
      "((21134, 32), (3718,))\n"
     ]
    }
   ],
   "source": [
    "# Merge on common genome name\n",
    "print(df.shape, meta.shape)\n",
    "print(df['genome'].unique().shape, meta['genome'].unique().shape)\n",
    "df = pd.merge(df, meta, how='outer')\n",
    "print(df.shape, df['genome'].unique().shape)"
   ]
  },
  {
   "cell_type": "code",
   "execution_count": 5,
   "metadata": {
    "collapsed": false
   },
   "outputs": [
    {
     "name": "stdout",
     "output_type": "stream",
     "text": [
      "((21133, 33), (3717,), (1898,))\n"
     ]
    },
    {
     "data": {
      "text/html": [
       "<div>\n",
       "<style scoped>\n",
       "    .dataframe tbody tr th:only-of-type {\n",
       "        vertical-align: middle;\n",
       "    }\n",
       "\n",
       "    .dataframe tbody tr th {\n",
       "        vertical-align: top;\n",
       "    }\n",
       "\n",
       "    .dataframe thead th {\n",
       "        text-align: right;\n",
       "    }\n",
       "</style>\n",
       "<table border=\"1\" class=\"dataframe\">\n",
       "  <thead>\n",
       "    <tr style=\"text-align: right;\">\n",
       "      <th></th>\n",
       "      <th>orf_id</th>\n",
       "      <th>contig</th>\n",
       "      <th>start</th>\n",
       "      <th>stop</th>\n",
       "      <th>orientation</th>\n",
       "      <th>cut_off</th>\n",
       "      <th>pass_evalue</th>\n",
       "      <th>best_hit_evalue</th>\n",
       "      <th>best_hit_aro</th>\n",
       "      <th>best_identities</th>\n",
       "      <th>...</th>\n",
       "      <th>id</th>\n",
       "      <th>model_id</th>\n",
       "      <th>genome</th>\n",
       "      <th>Species</th>\n",
       "      <th>phylum</th>\n",
       "      <th>Individual</th>\n",
       "      <th>Time_point</th>\n",
       "      <th>Plate_number</th>\n",
       "      <th>Well_number</th>\n",
       "      <th>n_hits</th>\n",
       "    </tr>\n",
       "  </thead>\n",
       "  <tbody>\n",
       "    <tr>\n",
       "      <th>21129</th>\n",
       "      <td>NaN</td>\n",
       "      <td>NaN</td>\n",
       "      <td>NaN</td>\n",
       "      <td>NaN</td>\n",
       "      <td>NaN</td>\n",
       "      <td>NaN</td>\n",
       "      <td>NaN</td>\n",
       "      <td>NaN</td>\n",
       "      <td>NaN</td>\n",
       "      <td>NaN</td>\n",
       "      <td>...</td>\n",
       "      <td>NaN</td>\n",
       "      <td>NaN</td>\n",
       "      <td>aa_0143_0001_e2</td>\n",
       "      <td>Unknown_genus_5</td>\n",
       "      <td>Firmicutes</td>\n",
       "      <td>aa</td>\n",
       "      <td>143.0</td>\n",
       "      <td>1.0</td>\n",
       "      <td>e2</td>\n",
       "      <td>0.0</td>\n",
       "    </tr>\n",
       "    <tr>\n",
       "      <th>21130</th>\n",
       "      <td>NaN</td>\n",
       "      <td>NaN</td>\n",
       "      <td>NaN</td>\n",
       "      <td>NaN</td>\n",
       "      <td>NaN</td>\n",
       "      <td>NaN</td>\n",
       "      <td>NaN</td>\n",
       "      <td>NaN</td>\n",
       "      <td>NaN</td>\n",
       "      <td>NaN</td>\n",
       "      <td>...</td>\n",
       "      <td>NaN</td>\n",
       "      <td>NaN</td>\n",
       "      <td>bj_0095_0068_a7</td>\n",
       "      <td>Veillonella_dispar</td>\n",
       "      <td>Firmicutes</td>\n",
       "      <td>bj</td>\n",
       "      <td>95.0</td>\n",
       "      <td>68.0</td>\n",
       "      <td>a7</td>\n",
       "      <td>0.0</td>\n",
       "    </tr>\n",
       "    <tr>\n",
       "      <th>21131</th>\n",
       "      <td>NaN</td>\n",
       "      <td>NaN</td>\n",
       "      <td>NaN</td>\n",
       "      <td>NaN</td>\n",
       "      <td>NaN</td>\n",
       "      <td>NaN</td>\n",
       "      <td>NaN</td>\n",
       "      <td>NaN</td>\n",
       "      <td>NaN</td>\n",
       "      <td>NaN</td>\n",
       "      <td>...</td>\n",
       "      <td>NaN</td>\n",
       "      <td>NaN</td>\n",
       "      <td>bj_0095_0068_b6</td>\n",
       "      <td>Veillonella_dispar</td>\n",
       "      <td>Firmicutes</td>\n",
       "      <td>bj</td>\n",
       "      <td>95.0</td>\n",
       "      <td>68.0</td>\n",
       "      <td>b6</td>\n",
       "      <td>0.0</td>\n",
       "    </tr>\n",
       "    <tr>\n",
       "      <th>21132</th>\n",
       "      <td>NaN</td>\n",
       "      <td>NaN</td>\n",
       "      <td>NaN</td>\n",
       "      <td>NaN</td>\n",
       "      <td>NaN</td>\n",
       "      <td>NaN</td>\n",
       "      <td>NaN</td>\n",
       "      <td>NaN</td>\n",
       "      <td>NaN</td>\n",
       "      <td>NaN</td>\n",
       "      <td>...</td>\n",
       "      <td>NaN</td>\n",
       "      <td>NaN</td>\n",
       "      <td>bj_0095_0068_c6</td>\n",
       "      <td>Veillonella_parvula</td>\n",
       "      <td>Firmicutes</td>\n",
       "      <td>bj</td>\n",
       "      <td>95.0</td>\n",
       "      <td>68.0</td>\n",
       "      <td>c6</td>\n",
       "      <td>0.0</td>\n",
       "    </tr>\n",
       "    <tr>\n",
       "      <th>21133</th>\n",
       "      <td>NaN</td>\n",
       "      <td>NaN</td>\n",
       "      <td>NaN</td>\n",
       "      <td>NaN</td>\n",
       "      <td>NaN</td>\n",
       "      <td>NaN</td>\n",
       "      <td>NaN</td>\n",
       "      <td>NaN</td>\n",
       "      <td>NaN</td>\n",
       "      <td>NaN</td>\n",
       "      <td>...</td>\n",
       "      <td>NaN</td>\n",
       "      <td>NaN</td>\n",
       "      <td>bj_0095_0068_d7</td>\n",
       "      <td>Veillonella_parvula</td>\n",
       "      <td>Firmicutes</td>\n",
       "      <td>bj</td>\n",
       "      <td>95.0</td>\n",
       "      <td>68.0</td>\n",
       "      <td>d7</td>\n",
       "      <td>0.0</td>\n",
       "    </tr>\n",
       "  </tbody>\n",
       "</table>\n",
       "<p>5 rows × 33 columns</p>\n",
       "</div>"
      ],
      "text/plain": [
       "      orf_id contig  start  stop orientation cut_off  pass_evalue  \\\n",
       "21129    NaN    NaN    NaN   NaN         NaN     NaN          NaN   \n",
       "21130    NaN    NaN    NaN   NaN         NaN     NaN          NaN   \n",
       "21131    NaN    NaN    NaN   NaN         NaN     NaN          NaN   \n",
       "21132    NaN    NaN    NaN   NaN         NaN     NaN          NaN   \n",
       "21133    NaN    NaN    NaN   NaN         NaN     NaN          NaN   \n",
       "\n",
       "       best_hit_evalue best_hit_aro  best_identities  ...     id model_id  \\\n",
       "21129              NaN          NaN              NaN  ...    NaN      NaN   \n",
       "21130              NaN          NaN              NaN  ...    NaN      NaN   \n",
       "21131              NaN          NaN              NaN  ...    NaN      NaN   \n",
       "21132              NaN          NaN              NaN  ...    NaN      NaN   \n",
       "21133              NaN          NaN              NaN  ...    NaN      NaN   \n",
       "\n",
       "                genome              Species      phylum Individual  \\\n",
       "21129  aa_0143_0001_e2      Unknown_genus_5  Firmicutes         aa   \n",
       "21130  bj_0095_0068_a7   Veillonella_dispar  Firmicutes         bj   \n",
       "21131  bj_0095_0068_b6   Veillonella_dispar  Firmicutes         bj   \n",
       "21132  bj_0095_0068_c6  Veillonella_parvula  Firmicutes         bj   \n",
       "21133  bj_0095_0068_d7  Veillonella_parvula  Firmicutes         bj   \n",
       "\n",
       "       Time_point  Plate_number Well_number n_hits  \n",
       "21129       143.0           1.0          e2    0.0  \n",
       "21130        95.0          68.0          a7    0.0  \n",
       "21131        95.0          68.0          b6    0.0  \n",
       "21132        95.0          68.0          c6    0.0  \n",
       "21133        95.0          68.0          d7    0.0  \n",
       "\n",
       "[5 rows x 33 columns]"
      ]
     },
     "execution_count": 5,
     "metadata": {},
     "output_type": "execute_result"
    }
   ],
   "source": [
    "# Count number of hits per genome\n",
    "hits = df.dropna(subset=['orf_id']).groupby('genome').size().reset_index()\n",
    "hits.columns = ['genome', 'n_hits']\n",
    "\n",
    "resdf = pd.merge(df, hits, how='outer')\n",
    "resdf = resdf.dropna(subset=['phylum'])\n",
    "print(resdf.shape, resdf['genome'].unique().shape, resdf.dropna(subset=['n_hits'])['genome'].unique().shape)\n",
    "resdf['n_hits'] = resdf['n_hits'].fillna(0.0)\n",
    "resdf.tail()"
   ]
  },
  {
   "cell_type": "markdown",
   "metadata": {},
   "source": [
    "# Make datasets for ITOL\n",
    "\n",
    "Okay, first I want to just visualize the number of AMR genes per genome.\n",
    "\n",
    "I have the tree from Mathieu's email uploaded into ITOL, so I need to create a gradient dataset annotation: https://itol.embl.de/help/dataset_gradient_template.txt"
   ]
  },
  {
   "cell_type": "markdown",
   "metadata": {},
   "source": [
    "```\n",
    "DATASET_GRADIENT\n",
    "#In gradient datasets, each ID is associated to a single numeric value which is converted to a colored box based on the gradient defined.\n",
    "\n",
    "#=================================================================#\n",
    "#                    MANDATORY SETTINGS                           #\n",
    "#=================================================================#\n",
    "#select the separator which is used to delimit the data below (TAB,SPACE or COMMA).This separator must be used throught this file (except in the SEPARATOR line, which uses space).\n",
    "SEPARATOR TAB\n",
    "\n",
    "#label is used in the legend table (can be changed later)\n",
    "DATASET_LABEL n_amr_genes_strict\n",
    "\n",
    "#dataset color (can be changed later)\n",
    "COLOR #ff0000\n",
    "\n",
    "#=================================================================#\n",
    "#                    OPTIONAL SETTINGS                            #\n",
    "#=================================================================#\n",
    "\n",
    "#each dataset can have a legend, which is defined below\n",
    "#for each row in the legend, there should be one shape, color and label\n",
    "#shape should be a number between 1 and 6:\n",
    "#1: square\n",
    "#2: circle\n",
    "#3: star\n",
    "#4: right pointing triangle\n",
    "#5: left pointing triangle\n",
    "#6: checkmark\n",
    "\n",
    "#LEGEND_TITLE Dataset_legend\n",
    "#LEGEND_SHAPES 1 2 3\n",
    "#LEGEND_COLORS #ff0000 #00ff00 #0000ff\n",
    "#LEGEND_LABELS value1 value2 value3\n",
    "\n",
    "#=================================================================#\n",
    "#     all other optional settings can be set or changed later     #\n",
    "#           in the web interface (under 'Datasets' tab)           #\n",
    "#=================================================================#\n",
    "\n",
    "#width of the gradient strip\n",
    "#STRIP_WIDTH 25\n",
    "\n",
    "#left margin, used to increase/decrease the spacing to the next dataset. Can be negative, causing datasets to overlap.\n",
    "#MARGIN 0\n",
    "\n",
    "#border width; if set above 0, a border of specified width (in pixels) will be drawn around the gradient strip\n",
    "#BORDER_WIDTH 0\n",
    "\n",
    "#border color; used whern BORDER_WIDTH is above 0\n",
    "#BORDER_COLOR #0000ff\n",
    "\n",
    "#define the gradient colors. Values in the dataset will be mapped onto the corresponding color gradient.\n",
    "#COLOR_MIN #ff0000\n",
    "#COLOR_MAX #0000ff\n",
    "\n",
    "#you can specify a gradient with three colors (e.g red to yellow to green) by setting 'USE_MID_COLOR' to 1, and specifying the midpoint color\n",
    "#USE_MID_COLOR 1\n",
    "#COLOR_MID #ffff00\n",
    "\n",
    "#always show internal values; if set, values associated to internal nodes will be displayed even if these nodes are not collapsed. It could cause overlapping in the dataset display.\n",
    "#SHOW_INTERNAL 1\n",
    "\n",
    "#Internal tree nodes can be specified using IDs directly, or using the 'last common ancestor' method described in iTOL help pages\n",
    "#=================================================================#\n",
    "#       Actual data follows after the \"DATA\" keyword              #\n",
    "#=================================================================#\n",
    "DATA\n",
    "#ID1 value1\n",
    "#ID2 value2\n",
    "#9606 10000\n",
    "#LEAF1|LEAF2 11000\n",
    "```"
   ]
  },
  {
   "cell_type": "code",
   "execution_count": 111,
   "metadata": {
    "collapsed": false
   },
   "outputs": [],
   "source": [
    "# Write number of hits\n",
    "with open('../../data/analysis/itol_dataset.gradient.n_strict_hits.txt', 'w') as f:\n",
    "    f.write('DATASET_GRADIENT\\n')\n",
    "    f.write('SEPARATOR TAB\\n')\n",
    "    f.write('DATASET_LABEL\\tn_amr_genes_strict\\n')\n",
    "    f.write('COLOR\\t#ff0000\\n')\n",
    "    \n",
    "    # Min = white, max = black\n",
    "    f.write('COLOR_MIN\\t#ffffff\\n')\n",
    "    f.write('COLOR_MAX\\t#000000\\n')\n",
    "    \n",
    "    f.write('DATA\\n')\n",
    "    \n",
    "    for i, j in zip(resdf['genome'], resdf['n_hits']):\n",
    "        f.write(i + '\\t' + str(j) + '\\n')"
   ]
  },
  {
   "cell_type": "code",
   "execution_count": 113,
   "metadata": {
    "collapsed": true
   },
   "outputs": [],
   "source": [
    "with open('../../data/analysis/itol_dataset.gradient.presence_strict_hits.txt', 'w') as f:\n",
    "    f.write('DATASET_GRADIENT\\n')\n",
    "    f.write('SEPARATOR TAB\\n')\n",
    "    f.write('DATASET_LABEL\\tpresence_amr_genes_strict\\n')\n",
    "    f.write('COLOR\\t#ff0000\\n')\n",
    "    \n",
    "    # Min = white, max = black\n",
    "    f.write('COLOR_MIN\\t#ffffff\\n')\n",
    "    f.write('COLOR_MAX\\t#000000\\n')\n",
    "    \n",
    "    f.write('DATA\\n')\n",
    "    \n",
    "    for i, j in zip(resdf['genome'], resdf['n_hits']):\n",
    "        f.write(i + '\\t' + str(int(j > 0)) + '\\n')"
   ]
  },
  {
   "cell_type": "code",
   "execution_count": 114,
   "metadata": {
    "collapsed": false
   },
   "outputs": [
    {
     "data": {
      "text/plain": [
       "Species                  n_hits\n",
       "Akkermansia_muciniphila  0.0       45\n",
       "Akkermansia_sp.          0.0       64\n",
       "                         1.0        3\n",
       "Alistipes_finegoldii     0.0        1\n",
       "                         1.0        1\n",
       "dtype: int64"
      ]
     },
     "execution_count": 114,
     "metadata": {},
     "output_type": "execute_result"
    }
   ],
   "source": [
    "resdf.sort_values(by='n_hits', ascending=False).groupby(['Species', 'n_hits']).size().head()"
   ]
  },
  {
   "cell_type": "code",
   "execution_count": 115,
   "metadata": {
    "collapsed": false
   },
   "outputs": [
    {
     "data": {
      "text/html": [
       "<div>\n",
       "<style scoped>\n",
       "    .dataframe tbody tr th:only-of-type {\n",
       "        vertical-align: middle;\n",
       "    }\n",
       "\n",
       "    .dataframe tbody tr th {\n",
       "        vertical-align: top;\n",
       "    }\n",
       "\n",
       "    .dataframe thead th {\n",
       "        text-align: right;\n",
       "    }\n",
       "</style>\n",
       "<table border=\"1\" class=\"dataframe\">\n",
       "  <thead>\n",
       "    <tr style=\"text-align: right;\">\n",
       "      <th></th>\n",
       "      <th>genome</th>\n",
       "      <th>Species</th>\n",
       "      <th>n_hits</th>\n",
       "    </tr>\n",
       "  </thead>\n",
       "  <tbody>\n",
       "    <tr>\n",
       "      <th>0</th>\n",
       "      <td>aa_0143_0005_c5</td>\n",
       "      <td>Bacteroides_ovatus</td>\n",
       "      <td>2.0</td>\n",
       "    </tr>\n",
       "    <tr>\n",
       "      <th>1</th>\n",
       "      <td>aa_0143_0005_c5</td>\n",
       "      <td>Bacteroides_ovatus</td>\n",
       "      <td>2.0</td>\n",
       "    </tr>\n",
       "    <tr>\n",
       "      <th>2</th>\n",
       "      <td>cx_0004_0077_d9</td>\n",
       "      <td>Bacteroides_xylanisolvens</td>\n",
       "      <td>3.0</td>\n",
       "    </tr>\n",
       "    <tr>\n",
       "      <th>3</th>\n",
       "      <td>cx_0004_0077_d9</td>\n",
       "      <td>Bacteroides_xylanisolvens</td>\n",
       "      <td>3.0</td>\n",
       "    </tr>\n",
       "    <tr>\n",
       "      <th>4</th>\n",
       "      <td>cx_0004_0077_d9</td>\n",
       "      <td>Bacteroides_xylanisolvens</td>\n",
       "      <td>3.0</td>\n",
       "    </tr>\n",
       "  </tbody>\n",
       "</table>\n",
       "</div>"
      ],
      "text/plain": [
       "            genome                    Species  n_hits\n",
       "0  aa_0143_0005_c5         Bacteroides_ovatus     2.0\n",
       "1  aa_0143_0005_c5         Bacteroides_ovatus     2.0\n",
       "2  cx_0004_0077_d9  Bacteroides_xylanisolvens     3.0\n",
       "3  cx_0004_0077_d9  Bacteroides_xylanisolvens     3.0\n",
       "4  cx_0004_0077_d9  Bacteroides_xylanisolvens     3.0"
      ]
     },
     "execution_count": 115,
     "metadata": {},
     "output_type": "execute_result"
    }
   ],
   "source": [
    "resdf[['genome', 'Species', 'n_hits']].head()"
   ]
  },
  {
   "cell_type": "code",
   "execution_count": 118,
   "metadata": {
    "collapsed": false
   },
   "outputs": [
    {
     "data": {
      "text/plain": [
       "Index([u'orf_id', u'contig', u'start', u'stop', u'orientation', u'cut_off',\n",
       "       u'pass_evalue', u'best_hit_evalue', u'best_hit_aro', u'best_identities',\n",
       "       u'aro', u'aro_name', u'model_type', u'snp', u'best_hit_aro_category',\n",
       "       u'aro_category', u'pass_bitscore', u'best_hit_bitscore', u'bit_score',\n",
       "       u'predicted_dna', u'predicted_protein', u'card_protein_sequence',\n",
       "       u'label', u'id', u'model_id', u'genome', u'Species', u'phylum',\n",
       "       u'Individual', u'Time_point', u'Plate_number', u'Well_number',\n",
       "       u'n_hits'],\n",
       "      dtype='object')"
      ]
     },
     "execution_count": 118,
     "metadata": {},
     "output_type": "execute_result"
    }
   ],
   "source": [
    "# TODO: make multiple datasets with yes/no indicator for each type of AR class\n",
    "resdf.columns"
   ]
  },
  {
   "cell_type": "code",
   "execution_count": 135,
   "metadata": {
    "collapsed": false
   },
   "outputs": [],
   "source": [
    "# TODO: make dataset with color strip for phylum\n",
    "#cdict = {i: rgb2hex(j) for i, j in zip(resdf['phylum'].unique(), sns.color_palette('Set1', len(resdf['phylum'].unique())))}\n",
    "\n",
    "# Modified slightly from microbiomeHD\n",
    "colors = sns.color_palette('Set1', 9)\n",
    "cdict = {'Actinobacteria': colors[2],\n",
    "              'Bacteroidetes': colors[1],\n",
    "              'Cyanobacteria/Chloroplast': colors[7],\n",
    "              'Candidatus_Saccharibacteria': colors[7],\n",
    "              'Euryarchaeota': colors[6],\n",
    "              'Firmicutes': colors[3],\n",
    "              'Fusobacteria': colors[4],\n",
    "              'Lentisphaerae': colors[7],\n",
    "              'Proteobacteria': colors[0],\n",
    "              'Synergistetes': colors[7],\n",
    "              'Verrucomicrobia': colors[8],\n",
    "              'Tenericutes': colors[7]}\n",
    "\n",
    "cdict = {i: rgb2hex(j) for i, j in cdict.items() if i in resdf['phylum'].unique()}\n",
    "\n",
    "with open('../../data/analysis/itol_dataset.color_strip.phylum.txt', 'w') as f:\n",
    "    f.write('DATASET_COLORSTRIP\\n')\n",
    "    f.write('SEPARATOR TAB\\n')\n",
    "    f.write('DATASET_LABEL\\tphylum\\n')\n",
    "    #f.write('COLOR\\t#ff0000\\n')\n",
    "    \n",
    "    f.write('LEGEND_TITLE\\tPhylum\\n')\n",
    "    f.write('LEGEND_COLORS\\t' + '\\t'.join(cdict.values()) + '\\n')       \n",
    "    f.write('LEGEND_LABELS\\t' + '\\t'.join(cdict.keys()) + '\\n')\n",
    "    f.write('LEGEND_SHAPES\\t' + '\\t'.join(['1']*len(cdict)) + '\\n')\n",
    "        \n",
    "    f.write('DATA\\n')\n",
    "    \n",
    "    for g, p in zip(resdf['genome'], resdf['phylum']):\n",
    "        f.write(g + '\\t' + cdict[p] + '\\t' + p + '\\n')"
   ]
  },
  {
   "cell_type": "markdown",
   "metadata": {},
   "source": [
    "# Do some basic exploration"
   ]
  },
  {
   "cell_type": "markdown",
   "metadata": {
    "collapsed": true
   },
   "source": [
    "- Total number of hits per taxa (histogram)      \n",
    "- Variation of number of hits per taxa?       \n",
    "     - i.e. do most taxa tend to have the same number of ARGs, or do some vary a lot?\n",
    "- Percent of genomes in each taxa that have at least one ARG       \n",
    "     - This might be the same info as the variation..."
   ]
  },
  {
   "cell_type": "code",
   "execution_count": 6,
   "metadata": {
    "collapsed": false
   },
   "outputs": [
    {
     "data": {
      "text/plain": [
       "(109,)"
      ]
     },
     "execution_count": 6,
     "metadata": {},
     "output_type": "execute_result"
    }
   ],
   "source": [
    "resdf['Species'].unique().shape"
   ]
  },
  {
   "cell_type": "code",
   "execution_count": 7,
   "metadata": {
    "collapsed": false
   },
   "outputs": [],
   "source": [
    "species = resdf.groupby('Species')['n_hits'].describe()"
   ]
  },
  {
   "cell_type": "code",
   "execution_count": 8,
   "metadata": {
    "collapsed": false
   },
   "outputs": [
    {
     "data": {
      "text/plain": [
       "<matplotlib.text.Text at 0x106cc5910>"
      ]
     },
     "execution_count": 8,
     "metadata": {},
     "output_type": "execute_result"
    },
    {
     "data": {
      "image/png": "[encoded data removed]",
      "text/plain": [
       "<matplotlib.figure.Figure at 0x106cfbfd0>"
      ]
     },
     "metadata": {},
     "output_type": "display_data"
    }
   ],
   "source": [
    "plt.hist(meta.groupby('Species').size(), bins=25)\n",
    "plt.title('Number of strains per species')\n",
    "plt.xlabel('Number of strains')\n",
    "plt.ylabel('Number of species')"
   ]
  },
  {
   "cell_type": "code",
   "execution_count": 9,
   "metadata": {
    "collapsed": false
   },
   "outputs": [
    {
     "data": {
      "text/plain": [
       "Species\n",
       "Escherichia_coli                     476\n",
       "Bifidobacterium_longum               426\n",
       "Alistipes_onderdonkii                267\n",
       "Bifidobacterium_adolescentis         248\n",
       "Turicibacter_sanguinis               236\n",
       "Bacteroides_thetaiotaomicron         198\n",
       "Bifidobacterium_pseudocatenulatum    197\n",
       "Bacteroides_ovatus                   186\n",
       "Bacteroides_vulgatus                 141\n",
       "Bacteroides_fragilis                 115\n",
       "Bacteroides_uniformis                 92\n",
       "Enterococcus_hirae                    86\n",
       "Enterococcus_durans                   77\n",
       "Bacteroides_xylanisolvens             75\n",
       "Akkermansia_sp.                       67\n",
       "Parabacteroides_distasonis            46\n",
       "Akkermansia_muciniphila               45\n",
       "Bacteroides_salyersiae                38\n",
       "Lactobacillus_plantarum               37\n",
       "Streptococcus_salivarius              36\n",
       "dtype: int64"
      ]
     },
     "execution_count": 9,
     "metadata": {},
     "output_type": "execute_result"
    }
   ],
   "source": [
    "meta.groupby('Species').size().sort_values(ascending=False).head(20)"
   ]
  },
  {
   "cell_type": "code",
   "execution_count": 10,
   "metadata": {
    "collapsed": false
   },
   "outputs": [
    {
     "data": {
      "text/plain": [
       "<matplotlib.text.Text at 0x10f404750>"
      ]
     },
     "execution_count": 10,
     "metadata": {},
     "output_type": "execute_result"
    },
    {
     "data": {
      "image/png": "[encoded data removed]",
      "text/plain": [
       "<matplotlib.figure.Figure at 0x106d3ef10>"
      ]
     },
     "metadata": {},
     "output_type": "display_data"
    }
   ],
   "source": [
    "plt.hist(species['mean'], bins=20)\n",
    "plt.title('Mean number of hits per species')\n",
    "plt.xlabel('Mean number of ARGs')\n",
    "plt.ylabel('Number of species')"
   ]
  },
  {
   "cell_type": "code",
   "execution_count": 11,
   "metadata": {
    "collapsed": false
   },
   "outputs": [
    {
     "data": {
      "text/plain": [
       "Species\n",
       "Escherichia_coli            37.373416\n",
       "Citrobacter_amalonaticus    21.086957\n",
       "Enterobacter_cloacae        16.000000\n",
       "Proteus_mirabilis            5.285714\n",
       "Enterococcus_faecalis        3.000000\n",
       "Eubacterium_sp.              3.000000\n",
       "Bacillus_cereus              3.000000\n",
       "Clostridium_beijerinckii     3.000000\n",
       "Bacteroides_vulgatus         2.775578\n",
       "Enterococcus_faecium         2.473684\n",
       "Name: mean, dtype: float64"
      ]
     },
     "execution_count": 11,
     "metadata": {},
     "output_type": "execute_result"
    }
   ],
   "source": [
    "species['mean'].sort_values(ascending=False).head(10)"
   ]
  },
  {
   "cell_type": "code",
   "execution_count": 12,
   "metadata": {
    "collapsed": false
   },
   "outputs": [
    {
     "name": "stdout",
     "output_type": "stream",
     "text": [
      "1898\n"
     ]
    },
    {
     "data": {
      "image/png": "[encoded data removed]",
      "text/plain": [
       "<matplotlib.figure.Figure at 0x106d4c950>"
      ]
     },
     "metadata": {},
     "output_type": "display_data"
    }
   ],
   "source": [
    "# Hits per genome\n",
    "plt.hist(resdf[['genome', 'n_hits']].drop_duplicates()['n_hits'])\n",
    "plt.xlabel('ARG hits')\n",
    "plt.ylabel('Number of genomes')\n",
    "print(sum(resdf[['genome', 'n_hits']].drop_duplicates()['n_hits'] > 0))"
   ]
  },
  {
   "cell_type": "code",
   "execution_count": 13,
   "metadata": {
    "collapsed": false
   },
   "outputs": [
    {
     "data": {
      "text/plain": [
       "(array([52., 12., 12.,  4.,  3.,  2.,  1.,  0.,  0.,  0.,  0.,  0.,  0.,\n",
       "         0.,  0.,  0.,  0.,  0.,  0.,  0.,  0.,  0.,  0.,  0.,  1.]),\n",
       " array([0.        , 0.27129054, 0.54258107, 0.81387161, 1.08516215,\n",
       "        1.35645269, 1.62774322, 1.89903376, 2.1703243 , 2.44161483,\n",
       "        2.71290537, 2.98419591, 3.25548645, 3.52677698, 3.79806752,\n",
       "        4.06935806, 4.34064859, 4.61193913, 4.88322967, 5.15452021,\n",
       "        5.42581074, 5.69710128, 5.96839182, 6.23968235, 6.51097289,\n",
       "        6.78226343]),\n",
       " <a list of 25 Patch objects>)"
      ]
     },
     "execution_count": 13,
     "metadata": {},
     "output_type": "execute_result"
    },
    {
     "data": {
      "image/png": "[encoded data removed]",
      "text/plain": [
       "<matplotlib.figure.Figure at 0x10f459e90>"
      ]
     },
     "metadata": {},
     "output_type": "display_data"
    }
   ],
   "source": [
    "plt.hist(species['std'].dropna(), bins=25)"
   ]
  },
  {
   "cell_type": "code",
   "execution_count": 14,
   "metadata": {
    "collapsed": false
   },
   "outputs": [
    {
     "data": {
      "text/html": [
       "<div>\n",
       "<style scoped>\n",
       "    .dataframe tbody tr th:only-of-type {\n",
       "        vertical-align: middle;\n",
       "    }\n",
       "\n",
       "    .dataframe tbody tr th {\n",
       "        vertical-align: top;\n",
       "    }\n",
       "\n",
       "    .dataframe thead th {\n",
       "        text-align: right;\n",
       "    }\n",
       "</style>\n",
       "<table border=\"1\" class=\"dataframe\">\n",
       "  <thead>\n",
       "    <tr style=\"text-align: right;\">\n",
       "      <th></th>\n",
       "      <th>count</th>\n",
       "      <th>mean</th>\n",
       "      <th>std</th>\n",
       "      <th>min</th>\n",
       "      <th>25%</th>\n",
       "      <th>50%</th>\n",
       "      <th>75%</th>\n",
       "      <th>max</th>\n",
       "    </tr>\n",
       "    <tr>\n",
       "      <th>Species</th>\n",
       "      <th></th>\n",
       "      <th></th>\n",
       "      <th></th>\n",
       "      <th></th>\n",
       "      <th></th>\n",
       "      <th></th>\n",
       "      <th></th>\n",
       "      <th></th>\n",
       "    </tr>\n",
       "  </thead>\n",
       "  <tbody>\n",
       "    <tr>\n",
       "      <th>Akkermansia_muciniphila</th>\n",
       "      <td>45.0</td>\n",
       "      <td>0.0</td>\n",
       "      <td>0.0</td>\n",
       "      <td>0.0</td>\n",
       "      <td>0.0</td>\n",
       "      <td>0.0</td>\n",
       "      <td>0.0</td>\n",
       "      <td>0.0</td>\n",
       "    </tr>\n",
       "    <tr>\n",
       "      <th>Clostridium_innocuum</th>\n",
       "      <td>13.0</td>\n",
       "      <td>1.0</td>\n",
       "      <td>0.0</td>\n",
       "      <td>1.0</td>\n",
       "      <td>1.0</td>\n",
       "      <td>1.0</td>\n",
       "      <td>1.0</td>\n",
       "      <td>1.0</td>\n",
       "    </tr>\n",
       "    <tr>\n",
       "      <th>Collinsella_sp.</th>\n",
       "      <td>6.0</td>\n",
       "      <td>0.0</td>\n",
       "      <td>0.0</td>\n",
       "      <td>0.0</td>\n",
       "      <td>0.0</td>\n",
       "      <td>0.0</td>\n",
       "      <td>0.0</td>\n",
       "      <td>0.0</td>\n",
       "    </tr>\n",
       "    <tr>\n",
       "      <th>Coprococcus_eutactus</th>\n",
       "      <td>2.0</td>\n",
       "      <td>0.0</td>\n",
       "      <td>0.0</td>\n",
       "      <td>0.0</td>\n",
       "      <td>0.0</td>\n",
       "      <td>0.0</td>\n",
       "      <td>0.0</td>\n",
       "      <td>0.0</td>\n",
       "    </tr>\n",
       "    <tr>\n",
       "      <th>Eggerthella_sp.</th>\n",
       "      <td>5.0</td>\n",
       "      <td>1.0</td>\n",
       "      <td>0.0</td>\n",
       "      <td>1.0</td>\n",
       "      <td>1.0</td>\n",
       "      <td>1.0</td>\n",
       "      <td>1.0</td>\n",
       "      <td>1.0</td>\n",
       "    </tr>\n",
       "    <tr>\n",
       "      <th>Enterobacter_cloacae</th>\n",
       "      <td>80.0</td>\n",
       "      <td>16.0</td>\n",
       "      <td>0.0</td>\n",
       "      <td>16.0</td>\n",
       "      <td>16.0</td>\n",
       "      <td>16.0</td>\n",
       "      <td>16.0</td>\n",
       "      <td>16.0</td>\n",
       "    </tr>\n",
       "    <tr>\n",
       "      <th>Enterococcus_avium</th>\n",
       "      <td>4.0</td>\n",
       "      <td>0.0</td>\n",
       "      <td>0.0</td>\n",
       "      <td>0.0</td>\n",
       "      <td>0.0</td>\n",
       "      <td>0.0</td>\n",
       "      <td>0.0</td>\n",
       "      <td>0.0</td>\n",
       "    </tr>\n",
       "    <tr>\n",
       "      <th>Enterococcus_faecalis</th>\n",
       "      <td>21.0</td>\n",
       "      <td>3.0</td>\n",
       "      <td>0.0</td>\n",
       "      <td>3.0</td>\n",
       "      <td>3.0</td>\n",
       "      <td>3.0</td>\n",
       "      <td>3.0</td>\n",
       "      <td>3.0</td>\n",
       "    </tr>\n",
       "    <tr>\n",
       "      <th>Enterococcus_hirae</th>\n",
       "      <td>86.0</td>\n",
       "      <td>1.0</td>\n",
       "      <td>0.0</td>\n",
       "      <td>1.0</td>\n",
       "      <td>1.0</td>\n",
       "      <td>1.0</td>\n",
       "      <td>1.0</td>\n",
       "      <td>1.0</td>\n",
       "    </tr>\n",
       "    <tr>\n",
       "      <th>Enterococcus_mundtii</th>\n",
       "      <td>13.0</td>\n",
       "      <td>0.0</td>\n",
       "      <td>0.0</td>\n",
       "      <td>0.0</td>\n",
       "      <td>0.0</td>\n",
       "      <td>0.0</td>\n",
       "      <td>0.0</td>\n",
       "      <td>0.0</td>\n",
       "    </tr>\n",
       "  </tbody>\n",
       "</table>\n",
       "</div>"
      ],
      "text/plain": [
       "                         count  mean  std   min   25%   50%   75%   max\n",
       "Species                                                                \n",
       "Akkermansia_muciniphila   45.0   0.0  0.0   0.0   0.0   0.0   0.0   0.0\n",
       "Clostridium_innocuum      13.0   1.0  0.0   1.0   1.0   1.0   1.0   1.0\n",
       "Collinsella_sp.            6.0   0.0  0.0   0.0   0.0   0.0   0.0   0.0\n",
       "Coprococcus_eutactus       2.0   0.0  0.0   0.0   0.0   0.0   0.0   0.0\n",
       "Eggerthella_sp.            5.0   1.0  0.0   1.0   1.0   1.0   1.0   1.0\n",
       "Enterobacter_cloacae      80.0  16.0  0.0  16.0  16.0  16.0  16.0  16.0\n",
       "Enterococcus_avium         4.0   0.0  0.0   0.0   0.0   0.0   0.0   0.0\n",
       "Enterococcus_faecalis     21.0   3.0  0.0   3.0   3.0   3.0   3.0   3.0\n",
       "Enterococcus_hirae        86.0   1.0  0.0   1.0   1.0   1.0   1.0   1.0\n",
       "Enterococcus_mundtii      13.0   0.0  0.0   0.0   0.0   0.0   0.0   0.0"
      ]
     },
     "execution_count": 14,
     "metadata": {},
     "output_type": "execute_result"
    }
   ],
   "source": [
    "species.dropna(subset=['std']).sort_values(by='std').head(10)"
   ]
  },
  {
   "cell_type": "code",
   "execution_count": 17,
   "metadata": {
    "collapsed": false
   },
   "outputs": [
    {
     "data": {
      "text/plain": [
       "(45,)"
      ]
     },
     "execution_count": 17,
     "metadata": {},
     "output_type": "execute_result"
    }
   ],
   "source": [
    "df.query('Species == \"Akkermansia_muciniphila\"')['genome'].unique().shape"
   ]
  },
  {
   "cell_type": "code",
   "execution_count": 24,
   "metadata": {
    "collapsed": false
   },
   "outputs": [
    {
     "data": {
      "text/html": [
       "<div>\n",
       "<style scoped>\n",
       "    .dataframe tbody tr th:only-of-type {\n",
       "        vertical-align: middle;\n",
       "    }\n",
       "\n",
       "    .dataframe tbody tr th {\n",
       "        vertical-align: top;\n",
       "    }\n",
       "\n",
       "    .dataframe thead th {\n",
       "        text-align: right;\n",
       "    }\n",
       "</style>\n",
       "<table border=\"1\" class=\"dataframe\">\n",
       "  <thead>\n",
       "    <tr style=\"text-align: right;\">\n",
       "      <th></th>\n",
       "      <th>count</th>\n",
       "      <th>mean</th>\n",
       "      <th>std</th>\n",
       "      <th>min</th>\n",
       "      <th>25%</th>\n",
       "      <th>50%</th>\n",
       "      <th>75%</th>\n",
       "      <th>max</th>\n",
       "    </tr>\n",
       "    <tr>\n",
       "      <th>Species</th>\n",
       "      <th></th>\n",
       "      <th></th>\n",
       "      <th></th>\n",
       "      <th></th>\n",
       "      <th></th>\n",
       "      <th></th>\n",
       "      <th></th>\n",
       "      <th></th>\n",
       "    </tr>\n",
       "  </thead>\n",
       "  <tbody>\n",
       "    <tr>\n",
       "      <th>Escherichia_coli</th>\n",
       "      <td>16732.0</td>\n",
       "      <td>37.373416</td>\n",
       "      <td>6.782263</td>\n",
       "      <td>5.0</td>\n",
       "      <td>38.0</td>\n",
       "      <td>40.0</td>\n",
       "      <td>41.0</td>\n",
       "      <td>47.0</td>\n",
       "    </tr>\n",
       "    <tr>\n",
       "      <th>Bifidobacterium_longum</th>\n",
       "      <td>426.0</td>\n",
       "      <td>0.007042</td>\n",
       "      <td>0.083720</td>\n",
       "      <td>0.0</td>\n",
       "      <td>0.0</td>\n",
       "      <td>0.0</td>\n",
       "      <td>0.0</td>\n",
       "      <td>1.0</td>\n",
       "    </tr>\n",
       "    <tr>\n",
       "      <th>Bacteroides_thetaiotaomicron</th>\n",
       "      <td>385.0</td>\n",
       "      <td>1.976623</td>\n",
       "      <td>0.429358</td>\n",
       "      <td>0.0</td>\n",
       "      <td>2.0</td>\n",
       "      <td>2.0</td>\n",
       "      <td>2.0</td>\n",
       "      <td>4.0</td>\n",
       "    </tr>\n",
       "    <tr>\n",
       "      <th>Bacteroides_vulgatus</th>\n",
       "      <td>303.0</td>\n",
       "      <td>2.775578</td>\n",
       "      <td>1.525435</td>\n",
       "      <td>0.0</td>\n",
       "      <td>2.0</td>\n",
       "      <td>2.0</td>\n",
       "      <td>4.0</td>\n",
       "      <td>6.0</td>\n",
       "    </tr>\n",
       "    <tr>\n",
       "      <th>Alistipes_onderdonkii</th>\n",
       "      <td>274.0</td>\n",
       "      <td>1.200730</td>\n",
       "      <td>1.182844</td>\n",
       "      <td>0.0</td>\n",
       "      <td>1.0</td>\n",
       "      <td>1.0</td>\n",
       "      <td>1.0</td>\n",
       "      <td>8.0</td>\n",
       "    </tr>\n",
       "  </tbody>\n",
       "</table>\n",
       "</div>"
      ],
      "text/plain": [
       "                                count       mean       std  min   25%   50%  \\\n",
       "Species                                                                       \n",
       "Escherichia_coli              16732.0  37.373416  6.782263  5.0  38.0  40.0   \n",
       "Bifidobacterium_longum          426.0   0.007042  0.083720  0.0   0.0   0.0   \n",
       "Bacteroides_thetaiotaomicron    385.0   1.976623  0.429358  0.0   2.0   2.0   \n",
       "Bacteroides_vulgatus            303.0   2.775578  1.525435  0.0   2.0   2.0   \n",
       "Alistipes_onderdonkii           274.0   1.200730  1.182844  0.0   1.0   1.0   \n",
       "\n",
       "                               75%   max  \n",
       "Species                                   \n",
       "Escherichia_coli              41.0  47.0  \n",
       "Bifidobacterium_longum         0.0   1.0  \n",
       "Bacteroides_thetaiotaomicron   2.0   4.0  \n",
       "Bacteroides_vulgatus           4.0   6.0  \n",
       "Alistipes_onderdonkii          1.0   8.0  "
      ]
     },
     "execution_count": 24,
     "metadata": {},
     "output_type": "execute_result"
    }
   ],
   "source": [
    "df.query('Species == \"Escherichia_coli\"')['genome'].unique().shape\n",
    "species.sort_values(by='count', ascending=False).head()"
   ]
  },
  {
   "cell_type": "code",
   "execution_count": 25,
   "metadata": {
    "collapsed": false
   },
   "outputs": [
    {
     "data": {
      "text/plain": [
       "<matplotlib.text.Text at 0x112896390>"
      ]
     },
     "execution_count": 25,
     "metadata": {},
     "output_type": "execute_result"
    },
    {
     "data": {
      "image/png": "[encoded data removed]",
      "text/plain": [
       "<matplotlib.figure.Figure at 0x11284c610>"
      ]
     },
     "metadata": {},
     "output_type": "display_data"
    }
   ],
   "source": [
    "plt.scatter(species['mean'], species['std'])\n",
    "plt.xlabel('Mean hits per species')\n",
    "plt.ylabel('std(hits) per species')"
   ]
  },
  {
   "cell_type": "code",
   "execution_count": 179,
   "metadata": {
    "collapsed": false
   },
   "outputs": [
    {
     "data": {
      "text/plain": [
       "count    80.0\n",
       "mean     16.0\n",
       "std       0.0\n",
       "min      16.0\n",
       "25%      16.0\n",
       "50%      16.0\n",
       "75%      16.0\n",
       "max      16.0\n",
       "Name: Enterobacter_cloacae, dtype: float64"
      ]
     },
     "execution_count": 179,
     "metadata": {},
     "output_type": "execute_result"
    }
   ],
   "source": [
    "species.loc['Enterobacter_cloacae']"
   ]
  },
  {
   "cell_type": "code",
   "execution_count": 188,
   "metadata": {
    "collapsed": false
   },
   "outputs": [
    {
     "data": {
      "text/plain": [
       "genome\n",
       "am_0025_0085_b2    16\n",
       "am_0025_0085_d2    16\n",
       "am_0025_0085_e2    16\n",
       "am_0025_0085_e3    16\n",
       "am_0025_0085_f3    16\n",
       "dtype: int64"
      ]
     },
     "execution_count": 188,
     "metadata": {},
     "output_type": "execute_result"
    }
   ],
   "source": [
    "df.dropna(subset=['orf_id']).query('Species == \"Enterobacter_cloacae\"').groupby('genome').size()"
   ]
  },
  {
   "cell_type": "markdown",
   "metadata": {},
   "source": [
    "So the Enterobacter cloacae has zero std because it's five strains from the same person on the same day - very likely to just be the same strain picked five separate times.\n",
    "\n",
    "Need to figure out a way to account for this... maybe groupby donor?"
   ]
  },
  {
   "cell_type": "code",
   "execution_count": 189,
   "metadata": {
    "collapsed": false
   },
   "outputs": [
    {
     "data": {
      "text/plain": [
       "count    253.000000\n",
       "mean      21.086957\n",
       "std        0.282330\n",
       "min       21.000000\n",
       "25%       21.000000\n",
       "50%       21.000000\n",
       "75%       21.000000\n",
       "max       22.000000\n",
       "Name: Citrobacter_amalonaticus, dtype: float64"
      ]
     },
     "execution_count": 189,
     "metadata": {},
     "output_type": "execute_result"
    }
   ],
   "source": [
    "species.loc['Citrobacter_amalonaticus']"
   ]
  },
  {
   "cell_type": "code",
   "execution_count": 190,
   "metadata": {
    "collapsed": false
   },
   "outputs": [
    {
     "data": {
      "text/plain": [
       "genome\n",
       "aa_0143_0055_f3-BIS    22\n",
       "ao_0067_0059_b1        21\n",
       "ao_0067_0059_d1        21\n",
       "ao_0067_0062_a5        21\n",
       "ao_0067_0062_a7        21\n",
       "ao_0067_0062_a8        21\n",
       "ao_0067_0062_b6        21\n",
       "ao_0067_0062_f5        21\n",
       "ao_0067_0062_f6        21\n",
       "ao_0067_0062_f7        21\n",
       "ao_0067_0062_g7        21\n",
       "ao_0067_0062_h5        21\n",
       "dtype: int64"
      ]
     },
     "execution_count": 190,
     "metadata": {},
     "output_type": "execute_result"
    }
   ],
   "source": [
    "df.dropna(subset=['orf_id']).query('Species == \"Citrobacter_amalonaticus\"').groupby('genome').size()"
   ]
  },
  {
   "cell_type": "code",
   "execution_count": 215,
   "metadata": {
    "collapsed": false
   },
   "outputs": [],
   "source": [
    "#resdf.groupby(['Species', 'Individual'])['n_hits'].describe()"
   ]
  },
  {
   "cell_type": "markdown",
   "metadata": {},
   "source": [
    "# Make datasets for top 10 genes\n",
    "\n",
    "Look at presence of genes across clades"
   ]
  },
  {
   "cell_type": "code",
   "execution_count": 234,
   "metadata": {
    "collapsed": false
   },
   "outputs": [],
   "source": [
    "def write_aro_name_dataset(resdf, g, fname, color='#000000'):\n",
    "    \"\"\"\n",
    "    Writes a presence/absence dataset (0 or 1) for presence of\n",
    "    given gene g (in column \"aro_name\") for each genome.\"\"\"\n",
    "    \n",
    "    with open(fname, 'w') as f:\n",
    "        f.write('DATASET_GRADIENT\\n')\n",
    "        f.write('SEPARATOR TAB\\n')\n",
    "        f.write('DATASET_LABEL\\t' + g + '\\n')\n",
    "        f.write('COLOR\\t#ff0000\\n')\n",
    "\n",
    "        # Min = white, max = black\n",
    "        f.write('COLOR_MIN\\t#ffffff\\n')\n",
    "        f.write('COLOR_MAX\\t' + color + '\\n')\n",
    "\n",
    "        f.write('DATA\\n')\n",
    "        \n",
    "        # Write the \"yes has gene\" lines\n",
    "        has_g = resdf.query('aro_name == @g')\n",
    "        f.write('\\n'.join([i + '\\t' + '1' for i in has_g['genome']]))\n",
    "        \n",
    "        # Write the \"doesn't have gene\" lines\n",
    "        have = has_g['genome'].unique().tolist()\n",
    "        doesnt_have = resdf.query('genome != @have')\n",
    "        f.write('\\n'.join([i + '\\t' + '0' for i in doesnt_have['genome']]))\n",
    "        \n",
    "\n",
    "# Top 3 genes per phylum\n",
    "n_genes = 3\n",
    "genes = []\n",
    "\n",
    "for p in ['Proteobacteria', 'Bacteroidetes', 'Firmicutes']:\n",
    "    genes += resdf.query('phylum == @p').groupby('aro_name').size().sort_values(ascending=False).head(n_genes).index.tolist()\n",
    "\n",
    "colors = [rgb2hex(i) for i in sns.color_palette('Set1', len(genes))]\n",
    "\n",
    "for i in range(len(genes)):\n",
    "    fname = '../../data/analysis/itol_dataset.' + genes[i] + '.txt'        \n",
    "    write_aro_name_dataset(resdf, genes[i], fname, colors[i])"
   ]
  },
  {
   "cell_type": "markdown",
   "metadata": {},
   "source": [
    "# Basic stats about the data for Rafalab group meeting"
   ]
  },
  {
   "cell_type": "code",
   "execution_count": 195,
   "metadata": {
    "collapsed": false
   },
   "outputs": [
    {
     "data": {
      "text/plain": [
       "(11,)"
      ]
     },
     "execution_count": 195,
     "metadata": {},
     "output_type": "execute_result"
    }
   ],
   "source": [
    "meta['Individual'].unique().shape"
   ]
  },
  {
   "cell_type": "code",
   "execution_count": 196,
   "metadata": {
    "collapsed": false
   },
   "outputs": [
    {
     "data": {
      "text/plain": [
       "(3717,)"
      ]
     },
     "execution_count": 196,
     "metadata": {},
     "output_type": "execute_result"
    }
   ],
   "source": [
    "meta['genome'].unique().shape"
   ]
  },
  {
   "cell_type": "code",
   "execution_count": 197,
   "metadata": {
    "collapsed": false
   },
   "outputs": [
    {
     "data": {
      "text/plain": [
       "(109,)"
      ]
     },
     "execution_count": 197,
     "metadata": {},
     "output_type": "execute_result"
    }
   ],
   "source": [
    "meta['Species'].unique().shape"
   ]
  },
  {
   "cell_type": "code",
   "execution_count": 36,
   "metadata": {
    "collapsed": false
   },
   "outputs": [
    {
     "data": {
      "text/plain": [
       "array(['Citrobacter_amalonaticus', 'Enterobacter_cloacae',\n",
       "       'Escherichia_coli', 'Parasutterella_excrementihominis',\n",
       "       'Proteus_mirabilis'], dtype=object)"
      ]
     },
     "execution_count": 36,
     "metadata": {},
     "output_type": "execute_result"
    }
   ],
   "source": [
    "meta.query('phylum == \"Proteobacteria\"')['Species'].unique()"
   ]
  },
  {
   "cell_type": "markdown",
   "metadata": {},
   "source": [
    "## Within donor variation vs. between donor variation\n",
    "\n",
    "\n",
    "> You can do within-(bacterial) species variation with a few donors, as long as you have multiple strains within your few donors\n",
    "\n",
    "> Also you could have a look at between people variation - we should have enough species per donor to do that.\n"
   ]
  },
  {
   "cell_type": "code",
   "execution_count": 51,
   "metadata": {
    "collapsed": false
   },
   "outputs": [
    {
     "data": {
      "text/plain": [
       "Species\n",
       "Bacteroides_ovatus                   10\n",
       "Escherichia_coli                     10\n",
       "Bacteroides_uniformis                 9\n",
       "Parabacteroides_distasonis            9\n",
       "Bacteroides_vulgatus                  8\n",
       "Bifidobacterium_longum                8\n",
       "Bacteroides_xylanisolvens             8\n",
       "Bifidobacterium_adolescentis          7\n",
       "Bacteroides_fragilis                  7\n",
       "Bacteroides_caccae                    6\n",
       "Bifidobacterium_pseudocatenulatum     6\n",
       "Bacteroides_thetaiotaomicron          6\n",
       "Streptococcus_salivarius              5\n",
       "Lactobacillus_plantarum               4\n",
       "Parabacteroides_merdae                4\n",
       "Enterococcus_durans                   4\n",
       "Propionibacterium_acnes               4\n",
       "Enterococcus_faecium                  4\n",
       "Bacillus_amyloliquefaciens            4\n",
       "Bacteroides_cellulosilyticus          4\n",
       "Bacteroides_faecis                    3\n",
       "dtype: int64"
      ]
     },
     "execution_count": 51,
     "metadata": {},
     "output_type": "execute_result"
    }
   ],
   "source": [
    "# Number of donors that each strain is found in\n",
    "(resdf\n",
    "    .groupby(['Species', 'Individual'])\n",
    " .size()\n",
    " .reset_index()\n",
    " .groupby('Species')\n",
    " .size()\n",
    " .sort_values(ascending=False)\n",
    " .head(21)\n",
    ")"
   ]
  },
  {
   "cell_type": "code",
   "execution_count": 65,
   "metadata": {
    "collapsed": false
   },
   "outputs": [],
   "source": [
    "# Get species which are present in at least four donors,\n",
    "# Then see how many strains per donor they have.\n",
    "# Goal: compare within-person variation with between-person variation\n",
    "sp = (resdf.groupby(['Species', 'Individual'])\n",
    "           .size()\n",
    "           .reset_index()\n",
    "           .groupby('Species')\n",
    "           .size())\n",
    "sp = sp[sp > 3].sort_values(ascending=False)\n",
    "sp = sp.index.tolist()\n",
    "\n",
    "max_s = []\n",
    "for s, subdf in resdf.query('Species == @sp').groupby(['Species']):\n",
    "    max_s.append([s, subdf.groupby('Individual').size().max()])\n",
    "max_s = pd.DataFrame(max_s, columns=['Species', 'max_genomes_per_indiv'])"
   ]
  },
  {
   "cell_type": "code",
   "execution_count": 68,
   "metadata": {
    "collapsed": false
   },
   "outputs": [
    {
     "data": {
      "text/html": [
       "<div>\n",
       "<style scoped>\n",
       "    .dataframe tbody tr th:only-of-type {\n",
       "        vertical-align: middle;\n",
       "    }\n",
       "\n",
       "    .dataframe tbody tr th {\n",
       "        vertical-align: top;\n",
       "    }\n",
       "\n",
       "    .dataframe thead th {\n",
       "        text-align: right;\n",
       "    }\n",
       "</style>\n",
       "<table border=\"1\" class=\"dataframe\">\n",
       "  <thead>\n",
       "    <tr style=\"text-align: right;\">\n",
       "      <th></th>\n",
       "      <th>Species</th>\n",
       "      <th>max_genomes_per_indiv</th>\n",
       "    </tr>\n",
       "  </thead>\n",
       "  <tbody>\n",
       "    <tr>\n",
       "      <th>14</th>\n",
       "      <td>Escherichia_coli</td>\n",
       "      <td>10246</td>\n",
       "    </tr>\n",
       "    <tr>\n",
       "      <th>5</th>\n",
       "      <td>Bacteroides_thetaiotaomicron</td>\n",
       "      <td>307</td>\n",
       "    </tr>\n",
       "    <tr>\n",
       "      <th>7</th>\n",
       "      <td>Bacteroides_vulgatus</td>\n",
       "      <td>165</td>\n",
       "    </tr>\n",
       "    <tr>\n",
       "      <th>3</th>\n",
       "      <td>Bacteroides_fragilis</td>\n",
       "      <td>136</td>\n",
       "    </tr>\n",
       "    <tr>\n",
       "      <th>11</th>\n",
       "      <td>Bifidobacterium_pseudocatenulatum</td>\n",
       "      <td>118</td>\n",
       "    </tr>\n",
       "    <tr>\n",
       "      <th>6</th>\n",
       "      <td>Bacteroides_uniformis</td>\n",
       "      <td>96</td>\n",
       "    </tr>\n",
       "    <tr>\n",
       "      <th>8</th>\n",
       "      <td>Bacteroides_xylanisolvens</td>\n",
       "      <td>95</td>\n",
       "    </tr>\n",
       "    <tr>\n",
       "      <th>4</th>\n",
       "      <td>Bacteroides_ovatus</td>\n",
       "      <td>94</td>\n",
       "    </tr>\n",
       "    <tr>\n",
       "      <th>10</th>\n",
       "      <td>Bifidobacterium_longum</td>\n",
       "      <td>93</td>\n",
       "    </tr>\n",
       "    <tr>\n",
       "      <th>12</th>\n",
       "      <td>Enterococcus_durans</td>\n",
       "      <td>71</td>\n",
       "    </tr>\n",
       "    <tr>\n",
       "      <th>9</th>\n",
       "      <td>Bifidobacterium_adolescentis</td>\n",
       "      <td>57</td>\n",
       "    </tr>\n",
       "    <tr>\n",
       "      <th>19</th>\n",
       "      <td>Streptococcus_salivarius</td>\n",
       "      <td>23</td>\n",
       "    </tr>\n",
       "    <tr>\n",
       "      <th>1</th>\n",
       "      <td>Bacteroides_caccae</td>\n",
       "      <td>19</td>\n",
       "    </tr>\n",
       "    <tr>\n",
       "      <th>16</th>\n",
       "      <td>Parabacteroides_distasonis</td>\n",
       "      <td>13</td>\n",
       "    </tr>\n",
       "    <tr>\n",
       "      <th>17</th>\n",
       "      <td>Parabacteroides_merdae</td>\n",
       "      <td>13</td>\n",
       "    </tr>\n",
       "    <tr>\n",
       "      <th>2</th>\n",
       "      <td>Bacteroides_cellulosilyticus</td>\n",
       "      <td>10</td>\n",
       "    </tr>\n",
       "    <tr>\n",
       "      <th>15</th>\n",
       "      <td>Lactobacillus_plantarum</td>\n",
       "      <td>10</td>\n",
       "    </tr>\n",
       "    <tr>\n",
       "      <th>13</th>\n",
       "      <td>Enterococcus_faecium</td>\n",
       "      <td>9</td>\n",
       "    </tr>\n",
       "    <tr>\n",
       "      <th>0</th>\n",
       "      <td>Bacillus_amyloliquefaciens</td>\n",
       "      <td>5</td>\n",
       "    </tr>\n",
       "    <tr>\n",
       "      <th>18</th>\n",
       "      <td>Propionibacterium_acnes</td>\n",
       "      <td>2</td>\n",
       "    </tr>\n",
       "  </tbody>\n",
       "</table>\n",
       "</div>"
      ],
      "text/plain": [
       "                              Species  max_genomes_per_indiv\n",
       "14                   Escherichia_coli                  10246\n",
       "5        Bacteroides_thetaiotaomicron                    307\n",
       "7                Bacteroides_vulgatus                    165\n",
       "3                Bacteroides_fragilis                    136\n",
       "11  Bifidobacterium_pseudocatenulatum                    118\n",
       "6               Bacteroides_uniformis                     96\n",
       "8           Bacteroides_xylanisolvens                     95\n",
       "4                  Bacteroides_ovatus                     94\n",
       "10             Bifidobacterium_longum                     93\n",
       "12                Enterococcus_durans                     71\n",
       "9        Bifidobacterium_adolescentis                     57\n",
       "19           Streptococcus_salivarius                     23\n",
       "1                  Bacteroides_caccae                     19\n",
       "16         Parabacteroides_distasonis                     13\n",
       "17             Parabacteroides_merdae                     13\n",
       "2        Bacteroides_cellulosilyticus                     10\n",
       "15            Lactobacillus_plantarum                     10\n",
       "13               Enterococcus_faecium                      9\n",
       "0          Bacillus_amyloliquefaciens                      5\n",
       "18            Propionibacterium_acnes                      2"
      ]
     },
     "execution_count": 68,
     "metadata": {},
     "output_type": "execute_result"
    }
   ],
   "source": [
    "max_s.sort_values(by='max_genomes_per_indiv', ascending=False)"
   ]
  },
  {
   "cell_type": "code",
   "execution_count": 73,
   "metadata": {
    "collapsed": false
   },
   "outputs": [
    {
     "data": {
      "text/html": [
       "<div>\n",
       "<style scoped>\n",
       "    .dataframe tbody tr th:only-of-type {\n",
       "        vertical-align: middle;\n",
       "    }\n",
       "\n",
       "    .dataframe tbody tr th {\n",
       "        vertical-align: top;\n",
       "    }\n",
       "\n",
       "    .dataframe thead th {\n",
       "        text-align: right;\n",
       "    }\n",
       "</style>\n",
       "<table border=\"1\" class=\"dataframe\">\n",
       "  <thead>\n",
       "    <tr style=\"text-align: right;\">\n",
       "      <th></th>\n",
       "      <th>count</th>\n",
       "      <th>mean</th>\n",
       "      <th>std</th>\n",
       "      <th>min</th>\n",
       "      <th>25%</th>\n",
       "      <th>50%</th>\n",
       "      <th>75%</th>\n",
       "      <th>max</th>\n",
       "    </tr>\n",
       "    <tr>\n",
       "      <th>Individual</th>\n",
       "      <th></th>\n",
       "      <th></th>\n",
       "      <th></th>\n",
       "      <th></th>\n",
       "      <th></th>\n",
       "      <th></th>\n",
       "      <th></th>\n",
       "      <th></th>\n",
       "    </tr>\n",
       "  </thead>\n",
       "  <tbody>\n",
       "    <tr>\n",
       "      <th>aa</th>\n",
       "      <td>4.0</td>\n",
       "      <td>2.000000</td>\n",
       "      <td>0.000000</td>\n",
       "      <td>2.0</td>\n",
       "      <td>2.0</td>\n",
       "      <td>2.0</td>\n",
       "      <td>2.0</td>\n",
       "      <td>2.0</td>\n",
       "    </tr>\n",
       "    <tr>\n",
       "      <th>af</th>\n",
       "      <td>307.0</td>\n",
       "      <td>2.000000</td>\n",
       "      <td>0.161690</td>\n",
       "      <td>0.0</td>\n",
       "      <td>2.0</td>\n",
       "      <td>2.0</td>\n",
       "      <td>2.0</td>\n",
       "      <td>3.0</td>\n",
       "    </tr>\n",
       "    <tr>\n",
       "      <th>av</th>\n",
       "      <td>5.0</td>\n",
       "      <td>0.000000</td>\n",
       "      <td>0.000000</td>\n",
       "      <td>0.0</td>\n",
       "      <td>0.0</td>\n",
       "      <td>0.0</td>\n",
       "      <td>0.0</td>\n",
       "      <td>0.0</td>\n",
       "    </tr>\n",
       "    <tr>\n",
       "      <th>bk</th>\n",
       "      <td>11.0</td>\n",
       "      <td>3.181818</td>\n",
       "      <td>0.873863</td>\n",
       "      <td>1.0</td>\n",
       "      <td>3.0</td>\n",
       "      <td>3.0</td>\n",
       "      <td>4.0</td>\n",
       "      <td>4.0</td>\n",
       "    </tr>\n",
       "    <tr>\n",
       "      <th>bq</th>\n",
       "      <td>5.0</td>\n",
       "      <td>0.200000</td>\n",
       "      <td>0.447214</td>\n",
       "      <td>0.0</td>\n",
       "      <td>0.0</td>\n",
       "      <td>0.0</td>\n",
       "      <td>0.0</td>\n",
       "      <td>1.0</td>\n",
       "    </tr>\n",
       "    <tr>\n",
       "      <th>cx</th>\n",
       "      <td>53.0</td>\n",
       "      <td>1.943396</td>\n",
       "      <td>0.233295</td>\n",
       "      <td>1.0</td>\n",
       "      <td>2.0</td>\n",
       "      <td>2.0</td>\n",
       "      <td>2.0</td>\n",
       "      <td>2.0</td>\n",
       "    </tr>\n",
       "  </tbody>\n",
       "</table>\n",
       "</div>"
      ],
      "text/plain": [
       "            count      mean       std  min  25%  50%  75%  max\n",
       "Individual                                                    \n",
       "aa            4.0  2.000000  0.000000  2.0  2.0  2.0  2.0  2.0\n",
       "af          307.0  2.000000  0.161690  0.0  2.0  2.0  2.0  3.0\n",
       "av            5.0  0.000000  0.000000  0.0  0.0  0.0  0.0  0.0\n",
       "bk           11.0  3.181818  0.873863  1.0  3.0  3.0  4.0  4.0\n",
       "bq            5.0  0.200000  0.447214  0.0  0.0  0.0  0.0  1.0\n",
       "cx           53.0  1.943396  0.233295  1.0  2.0  2.0  2.0  2.0"
      ]
     },
     "execution_count": 73,
     "metadata": {},
     "output_type": "execute_result"
    }
   ],
   "source": [
    "s = \"Bacteroides_thetaiotaomicron\"\n",
    "\n",
    "resdf.query('Species == @s').groupby(['Individual'])['n_ hits'].describe()"
   ]
  },
  {
   "cell_type": "markdown",
   "metadata": {
    "collapsed": true
   },
   "source": [
    "# Check cutoffs\n",
    "\n",
    "Need to make sure it's not just % identity, but also has a coverage cutoff."
   ]
  },
  {
   "cell_type": "code",
   "execution_count": 27,
   "metadata": {
    "collapsed": false
   },
   "outputs": [
    {
     "data": {
      "text/plain": [
       "Index([u'orf_id', u'contig', u'start', u'stop', u'orientation', u'cut_off',\n",
       "       u'pass_evalue', u'best_hit_evalue', u'best_hit_aro', u'best_identities',\n",
       "       u'aro', u'aro_name', u'model_type', u'snp', u'best_hit_aro_category',\n",
       "       u'aro_category', u'pass_bitscore', u'best_hit_bitscore', u'bit_score',\n",
       "       u'predicted_dna', u'predicted_protein', u'card_protein_sequence',\n",
       "       u'label', u'id', u'model_id', u'genome', u'Species', u'phylum',\n",
       "       u'Individual', u'Time_point', u'Plate_number', u'Well_number'],\n",
       "      dtype='object')"
      ]
     },
     "execution_count": 27,
     "metadata": {},
     "output_type": "execute_result"
    }
   ],
   "source": [
    "df.columns"
   ]
  },
  {
   "cell_type": "code",
   "execution_count": 33,
   "metadata": {
    "collapsed": false
   },
   "outputs": [
    {
     "data": {
      "text/plain": [
       "1.95185e-42"
      ]
     },
     "execution_count": 33,
     "metadata": {},
     "output_type": "execute_result"
    }
   ],
   "source": [
    "df['best_hit_evalue'].max()"
   ]
  },
  {
   "cell_type": "code",
   "execution_count": 39,
   "metadata": {
    "collapsed": false
   },
   "outputs": [
    {
     "data": {
      "text/html": [
       "<div>\n",
       "<style scoped>\n",
       "    .dataframe tbody tr th:only-of-type {\n",
       "        vertical-align: middle;\n",
       "    }\n",
       "\n",
       "    .dataframe tbody tr th {\n",
       "        vertical-align: top;\n",
       "    }\n",
       "\n",
       "    .dataframe thead th {\n",
       "        text-align: right;\n",
       "    }\n",
       "</style>\n",
       "<table border=\"1\" class=\"dataframe\">\n",
       "  <thead>\n",
       "    <tr style=\"text-align: right;\">\n",
       "      <th></th>\n",
       "      <th>orf_id</th>\n",
       "      <th>contig</th>\n",
       "      <th>start</th>\n",
       "      <th>stop</th>\n",
       "      <th>orientation</th>\n",
       "      <th>cut_off</th>\n",
       "      <th>pass_evalue</th>\n",
       "      <th>best_hit_evalue</th>\n",
       "      <th>best_hit_aro</th>\n",
       "      <th>best_identities</th>\n",
       "      <th>...</th>\n",
       "      <th>label</th>\n",
       "      <th>id</th>\n",
       "      <th>model_id</th>\n",
       "      <th>genome</th>\n",
       "      <th>Species</th>\n",
       "      <th>phylum</th>\n",
       "      <th>Individual</th>\n",
       "      <th>Time_point</th>\n",
       "      <th>Plate_number</th>\n",
       "      <th>Well_number</th>\n",
       "    </tr>\n",
       "  </thead>\n",
       "  <tbody>\n",
       "    <tr>\n",
       "      <th>2966</th>\n",
       "      <td>scaffold12|size144354_100</td>\n",
       "      <td>ID=12_100;partial=00;start_type=ATG;rbs_motif=...</td>\n",
       "      <td>105022.0</td>\n",
       "      <td>106665.0</td>\n",
       "      <td>+</td>\n",
       "      <td>Strict</td>\n",
       "      <td>NaN</td>\n",
       "      <td>3.728520e-162</td>\n",
       "      <td>MCR-3</td>\n",
       "      <td>44.96</td>\n",
       "      <td>...</td>\n",
       "      <td>scaffold12|size144354_100#105023#106666#1#ID=1...</td>\n",
       "      <td>gnl|BL_ORD_ID|2009|hsp_num:0</td>\n",
       "      <td>2795.0</td>\n",
       "      <td>am_0025_0085_d2</td>\n",
       "      <td>Enterobacter_cloacae</td>\n",
       "      <td>Proteobacteria</td>\n",
       "      <td>am</td>\n",
       "      <td>25.0</td>\n",
       "      <td>85.0</td>\n",
       "      <td>d2</td>\n",
       "    </tr>\n",
       "    <tr>\n",
       "      <th>2979</th>\n",
       "      <td>scaffold10|size139890_100</td>\n",
       "      <td>ID=10_100;partial=00;start_type=ATG;rbs_motif=...</td>\n",
       "      <td>105022.0</td>\n",
       "      <td>106665.0</td>\n",
       "      <td>+</td>\n",
       "      <td>Strict</td>\n",
       "      <td>NaN</td>\n",
       "      <td>3.728520e-162</td>\n",
       "      <td>MCR-3</td>\n",
       "      <td>44.96</td>\n",
       "      <td>...</td>\n",
       "      <td>scaffold10|size139890_100#105023#106666#1#ID=1...</td>\n",
       "      <td>gnl|BL_ORD_ID|2009|hsp_num:0</td>\n",
       "      <td>2795.0</td>\n",
       "      <td>am_0025_0085_e3</td>\n",
       "      <td>Enterobacter_cloacae</td>\n",
       "      <td>Proteobacteria</td>\n",
       "      <td>am</td>\n",
       "      <td>25.0</td>\n",
       "      <td>85.0</td>\n",
       "      <td>e3</td>\n",
       "    </tr>\n",
       "    <tr>\n",
       "      <th>14830</th>\n",
       "      <td>scaffold10|size144354_100</td>\n",
       "      <td>ID=10_100;partial=00;start_type=ATG;rbs_motif=...</td>\n",
       "      <td>105022.0</td>\n",
       "      <td>106665.0</td>\n",
       "      <td>+</td>\n",
       "      <td>Strict</td>\n",
       "      <td>NaN</td>\n",
       "      <td>3.728520e-162</td>\n",
       "      <td>MCR-3</td>\n",
       "      <td>44.96</td>\n",
       "      <td>...</td>\n",
       "      <td>scaffold10|size144354_100#105023#106666#1#ID=1...</td>\n",
       "      <td>gnl|BL_ORD_ID|2009|hsp_num:0</td>\n",
       "      <td>2795.0</td>\n",
       "      <td>am_0025_0085_b2</td>\n",
       "      <td>Enterobacter_cloacae</td>\n",
       "      <td>Proteobacteria</td>\n",
       "      <td>am</td>\n",
       "      <td>25.0</td>\n",
       "      <td>85.0</td>\n",
       "      <td>b2</td>\n",
       "    </tr>\n",
       "    <tr>\n",
       "      <th>14948</th>\n",
       "      <td>scaffold11|size139890_100</td>\n",
       "      <td>ID=11_100;partial=00;start_type=ATG;rbs_motif=...</td>\n",
       "      <td>105022.0</td>\n",
       "      <td>106665.0</td>\n",
       "      <td>+</td>\n",
       "      <td>Strict</td>\n",
       "      <td>NaN</td>\n",
       "      <td>3.728520e-162</td>\n",
       "      <td>MCR-3</td>\n",
       "      <td>44.96</td>\n",
       "      <td>...</td>\n",
       "      <td>scaffold11|size139890_100#105023#106666#1#ID=1...</td>\n",
       "      <td>gnl|BL_ORD_ID|2009|hsp_num:0</td>\n",
       "      <td>2795.0</td>\n",
       "      <td>am_0025_0085_f3</td>\n",
       "      <td>Enterobacter_cloacae</td>\n",
       "      <td>Proteobacteria</td>\n",
       "      <td>am</td>\n",
       "      <td>25.0</td>\n",
       "      <td>85.0</td>\n",
       "      <td>f3</td>\n",
       "    </tr>\n",
       "    <tr>\n",
       "      <th>15020</th>\n",
       "      <td>scaffold11|size145038_101</td>\n",
       "      <td>ID=11_101;partial=00;start_type=ATG;rbs_motif=...</td>\n",
       "      <td>105542.0</td>\n",
       "      <td>107185.0</td>\n",
       "      <td>+</td>\n",
       "      <td>Strict</td>\n",
       "      <td>NaN</td>\n",
       "      <td>3.728520e-162</td>\n",
       "      <td>MCR-3</td>\n",
       "      <td>44.96</td>\n",
       "      <td>...</td>\n",
       "      <td>scaffold11|size145038_101#105543#107186#1#ID=1...</td>\n",
       "      <td>gnl|BL_ORD_ID|2009|hsp_num:0</td>\n",
       "      <td>2795.0</td>\n",
       "      <td>am_0025_0085_e2</td>\n",
       "      <td>Enterobacter_cloacae</td>\n",
       "      <td>Proteobacteria</td>\n",
       "      <td>am</td>\n",
       "      <td>25.0</td>\n",
       "      <td>85.0</td>\n",
       "      <td>e2</td>\n",
       "    </tr>\n",
       "  </tbody>\n",
       "</table>\n",
       "<p>5 rows × 32 columns</p>\n",
       "</div>"
      ],
      "text/plain": [
       "                          orf_id  \\\n",
       "2966   scaffold12|size144354_100   \n",
       "2979   scaffold10|size139890_100   \n",
       "14830  scaffold10|size144354_100   \n",
       "14948  scaffold11|size139890_100   \n",
       "15020  scaffold11|size145038_101   \n",
       "\n",
       "                                                  contig     start      stop  \\\n",
       "2966   ID=12_100;partial=00;start_type=ATG;rbs_motif=...  105022.0  106665.0   \n",
       "2979   ID=10_100;partial=00;start_type=ATG;rbs_motif=...  105022.0  106665.0   \n",
       "14830  ID=10_100;partial=00;start_type=ATG;rbs_motif=...  105022.0  106665.0   \n",
       "14948  ID=11_100;partial=00;start_type=ATG;rbs_motif=...  105022.0  106665.0   \n",
       "15020  ID=11_101;partial=00;start_type=ATG;rbs_motif=...  105542.0  107185.0   \n",
       "\n",
       "      orientation cut_off  pass_evalue  best_hit_evalue best_hit_aro  \\\n",
       "2966            +  Strict          NaN    3.728520e-162        MCR-3   \n",
       "2979            +  Strict          NaN    3.728520e-162        MCR-3   \n",
       "14830           +  Strict          NaN    3.728520e-162        MCR-3   \n",
       "14948           +  Strict          NaN    3.728520e-162        MCR-3   \n",
       "15020           +  Strict          NaN    3.728520e-162        MCR-3   \n",
       "\n",
       "       best_identities     ...      \\\n",
       "2966             44.96     ...       \n",
       "2979             44.96     ...       \n",
       "14830            44.96     ...       \n",
       "14948            44.96     ...       \n",
       "15020            44.96     ...       \n",
       "\n",
       "                                                   label  \\\n",
       "2966   scaffold12|size144354_100#105023#106666#1#ID=1...   \n",
       "2979   scaffold10|size139890_100#105023#106666#1#ID=1...   \n",
       "14830  scaffold10|size144354_100#105023#106666#1#ID=1...   \n",
       "14948  scaffold11|size139890_100#105023#106666#1#ID=1...   \n",
       "15020  scaffold11|size145038_101#105543#107186#1#ID=1...   \n",
       "\n",
       "                                 id model_id           genome  \\\n",
       "2966   gnl|BL_ORD_ID|2009|hsp_num:0   2795.0  am_0025_0085_d2   \n",
       "2979   gnl|BL_ORD_ID|2009|hsp_num:0   2795.0  am_0025_0085_e3   \n",
       "14830  gnl|BL_ORD_ID|2009|hsp_num:0   2795.0  am_0025_0085_b2   \n",
       "14948  gnl|BL_ORD_ID|2009|hsp_num:0   2795.0  am_0025_0085_f3   \n",
       "15020  gnl|BL_ORD_ID|2009|hsp_num:0   2795.0  am_0025_0085_e2   \n",
       "\n",
       "                    Species          phylum  Individual  Time_point  \\\n",
       "2966   Enterobacter_cloacae  Proteobacteria          am        25.0   \n",
       "2979   Enterobacter_cloacae  Proteobacteria          am        25.0   \n",
       "14830  Enterobacter_cloacae  Proteobacteria          am        25.0   \n",
       "14948  Enterobacter_cloacae  Proteobacteria          am        25.0   \n",
       "15020  Enterobacter_cloacae  Proteobacteria          am        25.0   \n",
       "\n",
       "      Plate_number Well_number  \n",
       "2966          85.0          d2  \n",
       "2979          85.0          e3  \n",
       "14830         85.0          b2  \n",
       "14948         85.0          f3  \n",
       "15020         85.0          e2  \n",
       "\n",
       "[5 rows x 32 columns]"
      ]
     },
     "execution_count": 39,
     "metadata": {},
     "output_type": "execute_result"
    }
   ],
   "source": [
    "df['best_identities'].min()\n",
    "df.query('best_identities == 44.96')"
   ]
  },
  {
   "cell_type": "code",
   "execution_count": 41,
   "metadata": {
    "collapsed": false
   },
   "outputs": [
    {
     "data": {
      "text/plain": [
       "48       E448K\n",
       "201      E448K\n",
       "292      E448K\n",
       "295       S83L\n",
       "522      E448K\n",
       "626      E448K\n",
       "749      E448K\n",
       "759      E350Q\n",
       "819      E448K\n",
       "875      E448K\n",
       "896      E350Q\n",
       "930      E448K\n",
       "955      E350Q\n",
       "978      E448K\n",
       "1020     E448K\n",
       "1039     E350Q\n",
       "1084     E448K\n",
       "1100     E448K\n",
       "1158     E448K\n",
       "1174     E350Q\n",
       "1206     E448K\n",
       "1248     E448K\n",
       "1275     E448K\n",
       "1276     E350Q\n",
       "1346     E448K\n",
       "1382     E448K\n",
       "1435     E350Q\n",
       "1438     E448K\n",
       "1470     E448K\n",
       "1509     E350Q\n",
       "         ...  \n",
       "17126    E448K\n",
       "17290    E448K\n",
       "17417    E448K\n",
       "17438    E350Q\n",
       "17445    E448K\n",
       "17461    E448K\n",
       "17509    E448K\n",
       "17542    E448K\n",
       "17597    E448K\n",
       "17636    E448K\n",
       "17651    E448K\n",
       "17688    E448K\n",
       "17712    E350Q\n",
       "17864    E448K\n",
       "17891    E350Q\n",
       "17928    E350Q\n",
       "17929    E448K\n",
       "18004    E448K\n",
       "18026    E350Q\n",
       "18145    E448K\n",
       "18164    E350Q\n",
       "18269    E448K\n",
       "18288    E350Q\n",
       "18364    E350Q\n",
       "18452    E448K\n",
       "18540    E350Q\n",
       "18973    E350Q\n",
       "19007    E350Q\n",
       "19025    E448K\n",
       "19175    E350Q\n",
       "Name: snp, Length: 617, dtype: object"
      ]
     },
     "execution_count": 41,
     "metadata": {},
     "output_type": "execute_result"
    }
   ],
   "source": [
    "df['snp'].dropna()"
   ]
  },
  {
   "cell_type": "code",
   "execution_count": null,
   "metadata": {
    "collapsed": true
   },
   "outputs": [],
   "source": []
  }
 ],
 "metadata": {
  "anaconda-cloud": {},
  "kernelspec": {
   "display_name": "Python [default]",
   "language": "python",
   "name": "python2"
  },
  "language_info": {
   "codemirror_mode": {
    "name": "ipython",
    "version": 2
   },
   "file_extension": ".py",
   "mimetype": "text/x-python",
   "name": "python",
   "nbconvert_exporter": "python",
   "pygments_lexer": "ipython2",
   "version": "2.7.12"
  }
 },
 "nbformat": 4,
 "nbformat_minor": 2
}
